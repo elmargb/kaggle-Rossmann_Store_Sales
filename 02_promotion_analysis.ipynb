{
 "cells": [
  {
   "cell_type": "code",
   "execution_count": null,
   "metadata": {
    "collapsed": true
   },
   "outputs": [],
   "source": [
    "import pandas as pd\n",
    "import numpy as np\n",
    "import os\n",
    "import matplotlib.pyplot as plt\n",
    "%matplotlib inline\n",
    "os.chdir(\"/home/sundari/MDM/Kaggle/Rossmann_Store_Sales\")"
   ]
  },
  {
   "cell_type": "code",
   "execution_count": null,
   "metadata": {
    "collapsed": false
   },
   "outputs": [],
   "source": [
    "df_train = pd.read_csv(\"train.csv\",sep=\",\")\n",
    "df_stores = pd.read_csv(\"store.csv\",sep=\",\")"
   ]
  },
  {
   "cell_type": "code",
   "execution_count": null,
   "metadata": {
    "collapsed": false
   },
   "outputs": [],
   "source": [
    "#Separate the stores running promo2 and not running\n",
    "df_stores_promo2 = df_stores[df_stores['Promo2'] == 1]\n",
    "df_stores_nopromo2 = df_stores[df_stores['Promo2'] == 0]"
   ]
  },
  {
   "cell_type": "code",
   "execution_count": null,
   "metadata": {
    "collapsed": false
   },
   "outputs": [],
   "source": [
    "#Find the mean distance in above two categories\n",
    "stores_promo2 = df_stores_promo2['Store'].unique()\n",
    "stores_nopromo2 = df_stores_nopromo2['Store'].unique()\n",
    "\n",
    "np.mean(df_stores_promo2['CompetitionDistance']) #4316.508771929824\n",
    "np.mean(df_stores_nopromo2['CompetitionDistance']) #6549.520295202952\n",
    "np.std(df_stores_promo2['CompetitionDistance']) #5350.089645495236\n",
    "np.std(df_stores_nopromo2['CompetitionDistance']) #9365.669297679668\n",
    "#the mean compitetion distance is lower in case of stores running promo2, dig further to see how many stores \n",
    "#have compitetion and how many doesnt have in above two cases\n",
    "\n",
    "len(df_stores_nopromo2.loc[df_stores_nopromo2['CompetitionDistance'].notnull() == False])\n",
    "len(df_stores_promo2.loc[df_stores_promo2['CompetitionDistance'].notnull() == False])\n",
    "(df_stores['CompetitionDistance'].notnull()).value_counts()\n",
    "min(df_stores_nopromo2['CompetitionDistance'])"
   ]
  },
  {
   "cell_type": "code",
   "execution_count": null,
   "metadata": {
    "collapsed": false
   },
   "outputs": [],
   "source": [
    "df_merged = pd.merge(df_train,df_stores,on='Store',how='outer')\n",
    "df_merged = df_merged[df_merged['Open'] == 1]"
   ]
  },
  {
   "cell_type": "code",
   "execution_count": null,
   "metadata": {
    "collapsed": false
   },
   "outputs": [],
   "source": [
    "df_merged_promo2 = df_merged[df_merged['Store'].isin(stores_promo2)]\n",
    "df_merged_nopromo2 = df_merged[df_merged['Store'].isin(stores_nopromo2)]"
   ]
  },
  {
   "cell_type": "code",
   "execution_count": null,
   "metadata": {
    "collapsed": false
   },
   "outputs": [],
   "source": [
    "#find the mean sales across two categories\n",
    "np.mean(df_merged_promo2['Sales']) #5423.71821838335\n",
    "np.mean(df_merged_nopromo2['Sales']) #6124.710161387789\n",
    "\n",
    "#looks misleading, find the means only when store is open\n",
    "df_merged_promo2 = df_merged_promo2[df_merged_promo2['Open'] == 1]\n",
    "df_merged_nopromo2 = df_merged_nopromo2[df_merged_nopromo2['Open'] == 1]\n",
    "\n",
    "np.std(df_merged_promo2['Sales']) #6558.386062196469 #Max 41551 #median 6075.0 #sd 2725.194716522114\n",
    "np.std(df_merged_nopromo2['Sales']) #7350.557935493625 #Max 38722 #median 6685.0 #sd 3394.266975826838"
   ]
  },
  {
   "cell_type": "code",
   "execution_count": null,
   "metadata": {
    "collapsed": false
   },
   "outputs": [],
   "source": [
    "#Analyze \"Promo\" parameter - compare stores running promo on a given day with not running promo\n",
    "df_merged_promo = df_merged[df_merged['Promo'] == 1]\n",
    "df_merged_nopromo = df_merged[df_merged['Promo'] == 0]\n",
    "devices_promos = df_merged_promo['Store'].unique() #all stores ran promo atleast once"
   ]
  },
  {
   "cell_type": "code",
   "execution_count": null,
   "metadata": {
    "collapsed": false
   },
   "outputs": [],
   "source": [
    "df_merged.head()"
   ]
  },
  {
   "cell_type": "code",
   "execution_count": null,
   "metadata": {
    "collapsed": false
   },
   "outputs": [],
   "source": [
    "df_grouped_promo = df_merged_promo.reindex(columns = ['Store','Sales']).groupby('Store')\n",
    "df_grouped_nopromo = df_merged_nopromo.reindex(columns = ['Store','Sales']).groupby('Store')"
   ]
  },
  {
   "cell_type": "code",
   "execution_count": null,
   "metadata": {
    "collapsed": false
   },
   "outputs": [],
   "source": [
    "temp_p = df_grouped_promo.mean()\n",
    "temp_p.reset_index(level=0,inplace=True)\n",
    "temp_p.columns = ['Store','Sales_Promo']\n",
    "temp_np = df_grouped_nopromo.mean()\n",
    "temp_np.reset_index(level=0,inplace=True)\n",
    "temp_np.columns = ['Store','Sales_NoPromo']"
   ]
  },
  {
   "cell_type": "code",
   "execution_count": null,
   "metadata": {
    "collapsed": false
   },
   "outputs": [],
   "source": [
    "df_sales_comp = pd.merge(temp_p,temp_np,on='Store',how='outer')\n",
    "df_sales_comp['Promo > NoPromo'] = (df_sales_comp['Sales_Promo'] > df_sales_comp['Sales_NoPromo'])\n",
    "df_sales_comp['Promo > NoPromo'].value_counts()\n",
    "#True     1114\n",
    "#False       1"
   ]
  },
  {
   "cell_type": "code",
   "execution_count": null,
   "metadata": {
    "collapsed": false
   },
   "outputs": [],
   "source": [
    "df_merged.head()"
   ]
  },
  {
   "cell_type": "code",
   "execution_count": null,
   "metadata": {
    "collapsed": false
   },
   "outputs": [],
   "source": [
    "#Identify the monthly count of promotions\n",
    "month_wise_count = df_merged.reindex(columns = ['Date'])\n",
    "month_wise_count['Date'] = pd.to_datetime(month_wise_count['Date'])\n",
    "month_wise_count['Month'] = month_wise_count['Date'].dt.month"
   ]
  },
  {
   "cell_type": "code",
   "execution_count": null,
   "metadata": {
    "collapsed": false
   },
   "outputs": [],
   "source": [
    "df_monthCount = month_wise_count.groupby('Month').count()\n",
    "df_monthCount.reset_index(level=0,inplace=True)\n",
    "df_monthCount.columns = ['Month','Num_Promos']"
   ]
  },
  {
   "cell_type": "code",
   "execution_count": null,
   "metadata": {
    "collapsed": false
   },
   "outputs": [],
   "source": [
    "df_stores['PromoInterval'].value_counts()"
   ]
  },
  {
   "cell_type": "code",
   "execution_count": null,
   "metadata": {
    "collapsed": false
   },
   "outputs": [],
   "source": [
    "df_merged_nopromo.head()"
   ]
  },
  {
   "cell_type": "code",
   "execution_count": null,
   "metadata": {
    "collapsed": false
   },
   "outputs": [],
   "source": [
    "#Find time since promo2\n",
    "df_merged_promo2.head()"
   ]
  },
  {
   "cell_type": "code",
   "execution_count": null,
   "metadata": {
    "collapsed": false
   },
   "outputs": [],
   "source": [
    "df_merged_nopromo2['Promo'].value_counts() #234295,189012\n",
    "df_merged_promo2['Promo'].value_counts() #233201,187884\n",
    "#Promo2 and promo1 seem to be different\n",
    "df_merged_promo2.head()"
   ]
  },
  {
   "cell_type": "code",
   "execution_count": null,
   "metadata": {
    "collapsed": false
   },
   "outputs": [],
   "source": [
    "df_merged_promo2['Date'] = pd.to_datetime(df_merged_promo2['Date'])\n",
    "df_merged_promo2['Promo2SinceYear'] = pd.to_datetime(df_merged_promo2['Promo2SinceYear'].\n",
    "                                                     astype('int').astype('str') + '-01-01')"
   ]
  },
  {
   "cell_type": "code",
   "execution_count": null,
   "metadata": {
    "collapsed": false
   },
   "outputs": [],
   "source": [
    "df_merged_promo2['Promo2_Since_years'] = (df_merged_promo2['Date'] - df_merged_promo2['Promo2SinceYear'])"
   ]
  },
  {
   "cell_type": "code",
   "execution_count": null,
   "metadata": {
    "collapsed": false
   },
   "outputs": [],
   "source": [
    "#pd.to_datetime(df_merged_promo2['Promo2SinceYear'].astype('int').astype('str') + '-01-01')\n",
    "type(df_merged_promo2['Promo2SinceYear'].iloc[1])"
   ]
  },
  {
   "cell_type": "code",
   "execution_count": null,
   "metadata": {
    "collapsed": false
   },
   "outputs": [],
   "source": [
    "df_merged_promo2['Promo2_Since_years'].iloc[0]"
   ]
  },
  {
   "cell_type": "code",
   "execution_count": null,
   "metadata": {
    "collapsed": false
   },
   "outputs": [],
   "source": [
    "#Convert time delta to number\n",
    "df_merged_promo2['Promo2_Since_years'] = (df_merged_promo2['Promo2_Since_years'] / np.timedelta64(1, 'D')).astype(int)\n",
    "df_merged_promo2['Promo2_Since_years'] = df_merged_promo2['Promo2_Since_years']/365"
   ]
  },
  {
   "cell_type": "code",
   "execution_count": null,
   "metadata": {
    "collapsed": false
   },
   "outputs": [],
   "source": [
    "df_merged_promo2.head()"
   ]
  },
  {
   "cell_type": "code",
   "execution_count": null,
   "metadata": {
    "collapsed": false,
    "scrolled": true
   },
   "outputs": [],
   "source": [
    "df_merged_nopromo2['Promo2_Since_years'] = 0\n",
    "#Completed adding a new parameter - Promo2_Since_years for two data frames, proceed"
   ]
  },
  {
   "cell_type": "code",
   "execution_count": null,
   "metadata": {
    "collapsed": false
   },
   "outputs": [],
   "source": [
    "df_merged = pd.concat([df_merged_promo2,df_merged_nopromo2])"
   ]
  },
  {
   "cell_type": "code",
   "execution_count": null,
   "metadata": {
    "collapsed": false
   },
   "outputs": [],
   "source": [
    "#Remove the promo2 parameters for now\n",
    "df_merged.head()"
   ]
  },
  {
   "cell_type": "code",
   "execution_count": null,
   "metadata": {
    "collapsed": false
   },
   "outputs": [],
   "source": [
    "df_merged['Promo2_Since_years'] = np.where(df_merged['Promo2_Since_years'] < 0 ,0,df_merged['Promo2_Since_years'])"
   ]
  },
  {
   "cell_type": "code",
   "execution_count": null,
   "metadata": {
    "collapsed": false
   },
   "outputs": [],
   "source": [
    "#Remove unnecessary parameters\n",
    "df_merged = df_merged.drop('DayOfWeek',axis=1)\n",
    "df_merged = df_merged.drop('Customers',axis=1)\n",
    "#df_merged = df_merged.drop('Date',axis=1)\n",
    "df_merged = df_merged.drop('Promo2SinceWeek',axis=1)\n",
    "df_merged = df_merged.drop('Promo2SinceYear',axis=1)\n",
    "df_merged = df_merged.drop('PromoInterval',axis=1)\n",
    "df_merged['CompetitionDistance'] = df_merged['CompetitionDistance'].fillna(0)"
   ]
  },
  {
   "cell_type": "code",
   "execution_count": null,
   "metadata": {
    "collapsed": false
   },
   "outputs": [],
   "source": [
    "#See if assortment and store type have impact on mean sales\n",
    "#temp_asst_a = df_merged[df_merged['Assortment'] == 'a']\n",
    "#temp_asst_b = df_merged[df_merged['Assortment'] == 'b']\n",
    "#temp_asst_c = df_merged[df_merged['Assortment'] == 'c']\n",
    "#temp_asst_d = df_merged[df_merged['Assortment'] == 'd']\n",
    "df_merged.head()"
   ]
  },
  {
   "cell_type": "code",
   "execution_count": null,
   "metadata": {
    "collapsed": false
   },
   "outputs": [],
   "source": [
    "#Calculate time since compitetion the difference between Date and \"compitetion since\" parameters\n",
    "#df_merged['CompetitionOpenSinceYear'] = df_merged['CompetitionOpenSinceYear'].fillna('1899')\n",
    "#df_merged['CompetitionOpenSinceMonth'] = df_merged['CompetitionOpenSinceMonth'].fillna('1')"
   ]
  },
  {
   "cell_type": "code",
   "execution_count": null,
   "metadata": {
    "collapsed": false
   },
   "outputs": [],
   "source": [
    "# def convert_month( month ):\n",
    "#     if(len(str(int(month))) > 1):\n",
    "#         a = str(int(month)) + '-01'\n",
    "#     else:\n",
    "#         a = '0' + str(int(month)) + '-01'\n",
    "#     return a;"
   ]
  },
  {
   "cell_type": "code",
   "execution_count": null,
   "metadata": {
    "collapsed": false
   },
   "outputs": [],
   "source": [
    "#df_merged['CompetitionOpenSinceMonth'] = df_merged['CompetitionOpenSinceMonth'].map(convert_month)\n",
    "#df_merged['CompetitionOpenSinceYear'] = ((df_merged['CompetitionOpenSinceYear']).astype(int)).astype(str)"
   ]
  },
  {
   "cell_type": "code",
   "execution_count": null,
   "metadata": {
    "collapsed": false
   },
   "outputs": [],
   "source": [
    "#df_merged['CompitetionSince'] = df_merged[['CompetitionOpenSinceYear','CompetitionOpenSinceMonth']].apply(lambda x: '-'.join(x), axis=1)\n",
    "#df_merged['CompitetionSince'] = pd.to_datetime(df_merged['CompitetionSince'])\n",
    "#df_merged['Compitetion_Duration_Years'] = df_merged['Date'] - df_merged['CompitetionSince']\n",
    "#df_merged = df_merged.drop('CompetitionOpenSinceYear', axis=1, inplace=True)\n",
    "#df_merged = df_merged.drop('CompitetionSince', axis=1, inplace=True)\n",
    "#df_merged = df_merged.drop('CompetitionOpenSinceMonth', axis=1, inplace=True)\n"
   ]
  },
  {
   "cell_type": "code",
   "execution_count": null,
   "metadata": {
    "collapsed": false
   },
   "outputs": [],
   "source": [
    "#Remove compitetion since for time being, fix it later\n",
    "#df_merged = df_merged.drop('CompetitionOpenSinceYear',axis=1,inplace=True)"
   ]
  },
  {
   "cell_type": "code",
   "execution_count": null,
   "metadata": {
    "collapsed": false
   },
   "outputs": [],
   "source": [
    "df_merged.pop('CompetitionOpenSinceYear')\n",
    "df_merged.pop('CompetitionOpenSinceMonth')\n",
    "df_merged.pop('Date')\n",
    "df_merged.pop('StateHoliday')"
   ]
  },
  {
   "cell_type": "code",
   "execution_count": null,
   "metadata": {
    "collapsed": false
   },
   "outputs": [],
   "source": [
    "df_merged.head()"
   ]
  },
  {
   "cell_type": "code",
   "execution_count": null,
   "metadata": {
    "collapsed": false
   },
   "outputs": [],
   "source": [
    "df_merged['StoreType'].value_counts()"
   ]
  },
  {
   "cell_type": "code",
   "execution_count": null,
   "metadata": {
    "collapsed": false
   },
   "outputs": [],
   "source": [
    "df_merged['Assortment'].unique()"
   ]
  },
  {
   "cell_type": "code",
   "execution_count": null,
   "metadata": {
    "collapsed": false
   },
   "outputs": [],
   "source": [
    "#Split data into train and test, use train data to build any models test \n",
    "from sklearn.cross_validation import train_test_split\n",
    "df_train, df_test = train_test_split(df_merged, test_size = 0.3)\n",
    "df_test['lookup'] = range(253318) #this is for remapping the data\n",
    "df_train_bkp = df_train.copy(deep=True)\n",
    "df_test_bkp = df_test.copy(deep=True)\n",
    "    "
   ]
  },
  {
   "cell_type": "code",
   "execution_count": null,
   "metadata": {
    "collapsed": false
   },
   "outputs": [],
   "source": [
    "#Build models for different Assortment types\n",
    "dummy_StoreType = pd.get_dummies(df_train['StoreType'])\n",
    "df_train = df_train.drop('StoreType',axis=1)\n",
    "dummy_StoreType.columns = ['StoreType_a','StoreType_b','StoreType_c','StoreType_d']\n",
    "df_train = pd.concat([df_train,dummy_StoreType],axis=1)"
   ]
  },
  {
   "cell_type": "code",
   "execution_count": null,
   "metadata": {
    "collapsed": false
   },
   "outputs": [],
   "source": [
    "df_train_st_a = df_train[df_train['Assortment'] == 'a']\n",
    "df_train_st_b = df_train[df_train['Assortment'] == 'b']\n",
    "df_train_st_c = df_train[df_train['Assortment'] == 'c']\n",
    "\n",
    "df_train_st_a.pop('Assortment')\n",
    "df_train_st_b.pop('Assortment')\n",
    "df_train_st_c.pop('Assortment')\n",
    "\n",
    "df_train_st_a.pop('Store')\n",
    "df_train_st_b.pop('Store')\n",
    "df_train_st_c.pop('Store')\n",
    "\n",
    "target_st_a = df_train_st_a['Sales']\n",
    "target_st_b = df_train_st_b['Sales']\n",
    "target_st_c = df_train_st_c['Sales']\n",
    "\n",
    "df_train_st_a.pop('Sales')\n",
    "df_train_st_b.pop('Sales')\n",
    "df_train_st_c.pop('Sales')"
   ]
  },
  {
   "cell_type": "code",
   "execution_count": null,
   "metadata": {
    "collapsed": false
   },
   "outputs": [],
   "source": [
    "from sklearn.ensemble import RandomForestRegressor\n",
    "\n",
    "model_rf_st_a = RandomForestRegressor()\n",
    "model_rf_st_b = RandomForestRegressor()\n",
    "model_rf_st_c = RandomForestRegressor()\n",
    "    \n",
    "model_rf_st_a.fit(df_train_st_a,target_st_a)\n",
    "model_rf_st_b.fit(df_train_st_b,target_st_b)\n",
    "model_rf_st_c.fit(df_train_st_c,target_st_c)"
   ]
  },
  {
   "cell_type": "code",
   "execution_count": null,
   "metadata": {
    "collapsed": true
   },
   "outputs": [],
   "source": [
    "dummy_StoreType = pd.get_dummies(df_test['StoreType'])\n",
    "df_test = df_test.drop('StoreType',axis=1)\n",
    "dummy_StoreType.columns = ['StoreType_a','StoreType_b','StoreType_c','StoreType_d']\n",
    "df_test = pd.concat([df_test,dummy_StoreType],axis=1)"
   ]
  },
  {
   "cell_type": "code",
   "execution_count": null,
   "metadata": {
    "collapsed": false
   },
   "outputs": [],
   "source": [
    "df_test_st_a = df_test[df_test['Assortment'] == 'a']\n",
    "df_test_st_b = df_test[df_test['Assortment'] == 'b']\n",
    "df_test_st_c = df_test[df_test['Assortment'] == 'c']\n",
    "\n",
    "df_test_st_a.pop('Assortment')\n",
    "df_test_st_b.pop('Assortment')\n",
    "df_test_st_c.pop('Assortment')\n",
    "\n",
    "df_test_st_a.pop('Store')\n",
    "df_test_st_b.pop('Store')\n",
    "df_test_st_c.pop('Store')\n",
    "\n",
    "target_st_a = df_test_st_a['Sales']\n",
    "target_st_b = df_test_st_b['Sales']\n",
    "target_st_c = df_test_st_c['Sales']\n",
    "\n",
    "df_test_st_a.pop('Sales')\n",
    "df_test_st_b.pop('Sales')\n",
    "df_test_st_c.pop('Sales')\n",
    "\n",
    "lookup_st_a = df_test_st_a['lookup']\n",
    "lookup_st_b = df_test_st_b['lookup']\n",
    "lookup_st_c = df_test_st_c['lookup']\n",
    "\n",
    "df_test_st_a.pop('lookup')\n",
    "df_test_st_b.pop('lookup')\n",
    "df_test_st_c.pop('lookup')"
   ]
  },
  {
   "cell_type": "code",
   "execution_count": null,
   "metadata": {
    "collapsed": false
   },
   "outputs": [],
   "source": [
    "predicted_st_a = model_rf_st_a.predict(df_test_st_a)\n",
    "predicted_st_b = model_rf_st_b.predict(df_test_st_b)\n",
    "predicted_st_c = model_rf_st_c.predict(df_test_st_c) "
   ]
  },
  {
   "cell_type": "code",
   "execution_count": null,
   "metadata": {
    "collapsed": false
   },
   "outputs": [],
   "source": [
    "results_master = pd.DataFrame(df_test[['lookup','Sales']])\n",
    "temp_st_a = pd.DataFrame(lookup_st_a)\n",
    "temp_st_a['Predicted'] = predicted_st_a\n",
    "temp_st_b = pd.DataFrame(lookup_st_b)\n",
    "temp_st_b['Predicted'] = predicted_st_b\n",
    "temp_st_b.head()\n",
    "temp_st_c = pd.DataFrame(lookup_st_c)\n",
    "temp_st_c['Predicted'] = predicted_st_c\n",
    "temp_merged = pd.concat([temp_st_a,temp_st_b,temp_st_c])"
   ]
  },
  {
   "cell_type": "code",
   "execution_count": null,
   "metadata": {
    "collapsed": false
   },
   "outputs": [],
   "source": [
    "merged_results = pd.merge(results_master,temp_merged,on='lookup')\n",
    "merged_results.columns = ['lookup', 'Sales', 'Predicted_AST']"
   ]
  },
  {
   "cell_type": "code",
   "execution_count": null,
   "metadata": {
    "collapsed": false
   },
   "outputs": [],
   "source": [
    "#retreive actual train and test backup\n",
    "df_train = df_train_bkp.copy(deep=True)\n",
    "df_test  = df_test_bkp.copy(deep=True)\n",
    "\n",
    "#Build models for different store types types\n",
    "dummy_StoreType = pd.get_dummies(df_train['Assortment'])\n",
    "df_train = df_train.drop('Assortment',axis=1)\n",
    "dummy_Assortment.columns = ['Assortment_a','Assortment_b','Assortment_c']\n",
    "df_train = pd.concat([df_train,dummy_Assortment],axis=1)"
   ]
  },
  {
   "cell_type": "code",
   "execution_count": null,
   "metadata": {
    "collapsed": false
   },
   "outputs": [],
   "source": [
    "dummy_StoreType = pd.get_dummies(df_train['Assortment'])\n",
    "df_train = df_train.drop('Assortment',axis=1)\n",
    "dummy_Assortment.columns = ['Assortment_a','Assortment_b','Assortment_c']\n",
    "df_train = pd.concat([df_train,dummy_Assortment],axis=1)"
   ]
  },
  {
   "cell_type": "code",
   "execution_count": null,
   "metadata": {
    "collapsed": false
   },
   "outputs": [],
   "source": [
    "df_train"
   ]
  },
  {
   "cell_type": "code",
   "execution_count": null,
   "metadata": {
    "collapsed": false
   },
   "outputs": [],
   "source": [
    "df_train_ast_a = df_train[df_train['StoreType'] == 'a']\n",
    "df_train_ast_b = df_train[df_train['StoreType'] == 'b']\n",
    "df_train_ast_c = df_train[df_train['StoreType'] == 'c']\n",
    "df_train_ast_d = df_train[df_train['StoreType'] == 'd']\n",
    "\n",
    "df_train_ast_a.pop('StoreType')\n",
    "df_train_ast_b.pop('StoreType')\n",
    "df_train_ast_c.pop('StoreType')\n",
    "df_train_ast_d.pop('StoreType')\n",
    "\n",
    "df_train_ast_a.pop('Store')\n",
    "df_train_ast_b.pop('Store')\n",
    "df_train_ast_c.pop('Store')\n",
    "df_train_ast_d.pop('Store')\n",
    "\n",
    "target_ast_a = df_train_ast_a['Sales']\n",
    "target_ast_b = df_train_ast_b['Sales']\n",
    "target_ast_c = df_train_ast_c['Sales']\n",
    "target_ast_d = df_train_ast_d['Sales']\n",
    "\n",
    "df_train_ast_a.pop('Sales')\n",
    "df_train_ast_b.pop('Sales')\n",
    "df_train_ast_c.pop('Sales')\n",
    "df_train_ast_d.pop('Sales')"
   ]
  },
  {
   "cell_type": "code",
   "execution_count": null,
   "metadata": {
    "collapsed": false
   },
   "outputs": [],
   "source": [
    "df_train_ast_a.head()"
   ]
  },
  {
   "cell_type": "code",
   "execution_count": null,
   "metadata": {
    "collapsed": false
   },
   "outputs": [],
   "source": [
    "from sklearn.ensemble import RandomForestRegressor\n",
    "\n",
    "model_rf_ast_a = RandomForestRegressor()\n",
    "model_rf_ast_b = RandomForestRegressor()\n",
    "model_rf_ast_c = RandomForestRegressor()\n",
    "model_rf_ast_d = RandomForestRegressor()\n",
    "    \n",
    "model_rf_ast_a.fit(df_train_ast_a,target_ast_a)\n",
    "model_rf_ast_b.fit(df_train_ast_b,target_ast_b)\n",
    "model_rf_ast_c.fit(df_train_ast_c,target_ast_c)\n",
    "model_rf_ast_d.fit(df_train_ast_d,target_ast_d)"
   ]
  },
  {
   "cell_type": "code",
   "execution_count": null,
   "metadata": {
    "collapsed": false
   },
   "outputs": [],
   "source": [
    "dummy_Assortment = pd.get_dummies(df_test['Assortment'])\n",
    "df_test = df_test.drop('Assortment',axis=1)\n",
    "dummy_Assortment.columns = ['Assortment_a','Assortment_b','Assortment_c']\n",
    "df_test = pd.concat([df_test,dummy_Assortment],axis=1)"
   ]
  },
  {
   "cell_type": "code",
   "execution_count": null,
   "metadata": {
    "collapsed": false
   },
   "outputs": [],
   "source": [
    "df_test_ast_a = df_test[df_test['StoreType'] == 'a']\n",
    "df_test_ast_b = df_test[df_test['StoreType'] == 'b']\n",
    "df_test_ast_c = df_test[df_test['StoreType'] == 'c']\n",
    "df_test_ast_d = df_test[df_test['StoreType'] == 'd']\n",
    "\n",
    "df_test_ast_a.pop('StoreType')\n",
    "df_test_ast_b.pop('StoreType')\n",
    "df_test_ast_c.pop('StoreType')\n",
    "df_test_ast_d.pop('StoreType')\n",
    "\n",
    "df_test_ast_a.pop('Store')\n",
    "df_test_ast_b.pop('Store')\n",
    "df_test_ast_c.pop('Store')\n",
    "df_test_ast_d.pop('Store')\n",
    "\n",
    "target_ast_a = df_test_ast_a['Sales']\n",
    "target_ast_b = df_test_ast_b['Sales']\n",
    "target_ast_c = df_test_ast_c['Sales']\n",
    "target_ast_d = df_test_ast_d['Sales']\n",
    "\n",
    "df_test_ast_a.pop('Sales')\n",
    "df_test_ast_b.pop('Sales')\n",
    "df_test_ast_c.pop('Sales')\n",
    "df_test_ast_d.pop('Sales')"
   ]
  },
  {
   "cell_type": "code",
   "execution_count": null,
   "metadata": {
    "collapsed": false
   },
   "outputs": [],
   "source": [
    "predicted_ast_a = model_rf_ast_a.predict(df_test_ast_a)\n",
    "predicted_ast_b = model_rf_ast_b.predict(df_test_ast_b)\n",
    "predicted_ast_c = model_rf_ast_c.predict(df_test_ast_c) \n",
    "predicted_ast_d = model_rf_ast_d.predict(df_test_ast_d)"
   ]
  },
  {
   "cell_type": "code",
   "execution_count": null,
   "metadata": {
    "collapsed": false
   },
   "outputs": [],
   "source": [
    "df_train.head()"
   ]
  },
  {
   "cell_type": "code",
   "execution_count": null,
   "metadata": {
    "collapsed": true
   },
   "outputs": [],
   "source": []
  }
 ],
 "metadata": {
  "kernelspec": {
   "display_name": "Python 2",
   "language": "python",
   "name": "python2"
  },
  "language_info": {
   "codemirror_mode": {
    "name": "ipython",
    "version": 2
   },
   "file_extension": ".py",
   "mimetype": "text/x-python",
   "name": "python",
   "nbconvert_exporter": "python",
   "pygments_lexer": "ipython2",
   "version": "2.7.10"
  }
 },
 "nbformat": 4,
 "nbformat_minor": 0
}
